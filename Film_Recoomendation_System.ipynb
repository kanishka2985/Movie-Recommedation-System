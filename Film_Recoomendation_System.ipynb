{
  "cells": [
    {
      "cell_type": "markdown",
      "metadata": {
        "id": "2ZCBwiVTKJOc"
      },
      "source": [
        "## Author  \n",
        "**Kanishka Sharma**\n",
        "\n",
        "* 🔗 LinkedIn - www.linkedin.com/in/kanishka2985\n",
        "\n",
        "\n",
        "* 🤖 Github - https://github.com/kanishka2985"
      ]
    },
    {
      "cell_type": "markdown",
      "metadata": {
        "id": "IY6NVxTyWkXZ"
      },
      "source": [
        "# Film Recommendation System"
      ]
    },
    {
      "cell_type": "code",
      "execution_count": 1,
      "metadata": {
        "id": "ulS9Y1ACWfE2"
      },
      "outputs": [],
      "source": [
        "# Importing all the necesaary Librarires\n",
        "import pandas as pd\n",
        "import numpy as np\n",
        "import difflib\n",
        "from sklearn.feature_extraction.text import TfidfVectorizer\n",
        "from sklearn.metrics.pairwise import cosine_similarity"
      ]
    },
    {
      "cell_type": "code",
      "execution_count": 4,
      "metadata": {
        "id": "BkTapHTfY0le"
      },
      "outputs": [],
      "source": [
        "#Loading of dataset\n",
        "path='Copy of Copy of movies.csv'\n",
        "data=pd.read_csv(path)"
      ]
    },
    {
      "cell_type": "code",
      "execution_count": 5,
      "metadata": {
        "colab": {
          "base_uri": "https://localhost:8080/",
          "height": 793
        },
        "id": "-FcMu5Z-Y9ci",
        "outputId": "57aa70db-1d80-400a-fb0f-481405fe7055"
      },
      "outputs": [
        {
          "data": {
            "text/html": [
              "<div>\n",
              "<style scoped>\n",
              "    .dataframe tbody tr th:only-of-type {\n",
              "        vertical-align: middle;\n",
              "    }\n",
              "\n",
              "    .dataframe tbody tr th {\n",
              "        vertical-align: top;\n",
              "    }\n",
              "\n",
              "    .dataframe thead th {\n",
              "        text-align: right;\n",
              "    }\n",
              "</style>\n",
              "<table border=\"1\" class=\"dataframe\">\n",
              "  <thead>\n",
              "    <tr style=\"text-align: right;\">\n",
              "      <th></th>\n",
              "      <th>index</th>\n",
              "      <th>budget</th>\n",
              "      <th>genres</th>\n",
              "      <th>homepage</th>\n",
              "      <th>id</th>\n",
              "      <th>keywords</th>\n",
              "      <th>original_language</th>\n",
              "      <th>original_title</th>\n",
              "      <th>overview</th>\n",
              "      <th>popularity</th>\n",
              "      <th>...</th>\n",
              "      <th>runtime</th>\n",
              "      <th>spoken_languages</th>\n",
              "      <th>status</th>\n",
              "      <th>tagline</th>\n",
              "      <th>title</th>\n",
              "      <th>vote_average</th>\n",
              "      <th>vote_count</th>\n",
              "      <th>cast</th>\n",
              "      <th>crew</th>\n",
              "      <th>director</th>\n",
              "    </tr>\n",
              "  </thead>\n",
              "  <tbody>\n",
              "    <tr>\n",
              "      <th>0</th>\n",
              "      <td>0</td>\n",
              "      <td>237000000</td>\n",
              "      <td>Action Adventure Fantasy Science Fiction</td>\n",
              "      <td>http://www.avatarmovie.com/</td>\n",
              "      <td>19995</td>\n",
              "      <td>culture clash future space war space colony so...</td>\n",
              "      <td>en</td>\n",
              "      <td>Avatar</td>\n",
              "      <td>In the 22nd century, a paraplegic Marine is di...</td>\n",
              "      <td>150.437577</td>\n",
              "      <td>...</td>\n",
              "      <td>162.0</td>\n",
              "      <td>[{\"iso_639_1\": \"en\", \"name\": \"English\"}, {\"iso...</td>\n",
              "      <td>Released</td>\n",
              "      <td>Enter the World of Pandora.</td>\n",
              "      <td>Avatar</td>\n",
              "      <td>7.2</td>\n",
              "      <td>11800</td>\n",
              "      <td>Sam Worthington Zoe Saldana Sigourney Weaver S...</td>\n",
              "      <td>[{'name': 'Stephen E. Rivkin', 'gender': 0, 'd...</td>\n",
              "      <td>James Cameron</td>\n",
              "    </tr>\n",
              "    <tr>\n",
              "      <th>1</th>\n",
              "      <td>1</td>\n",
              "      <td>300000000</td>\n",
              "      <td>Adventure Fantasy Action</td>\n",
              "      <td>http://disney.go.com/disneypictures/pirates/</td>\n",
              "      <td>285</td>\n",
              "      <td>ocean drug abuse exotic island east india trad...</td>\n",
              "      <td>en</td>\n",
              "      <td>Pirates of the Caribbean: At World's End</td>\n",
              "      <td>Captain Barbossa, long believed to be dead, ha...</td>\n",
              "      <td>139.082615</td>\n",
              "      <td>...</td>\n",
              "      <td>169.0</td>\n",
              "      <td>[{\"iso_639_1\": \"en\", \"name\": \"English\"}]</td>\n",
              "      <td>Released</td>\n",
              "      <td>At the end of the world, the adventure begins.</td>\n",
              "      <td>Pirates of the Caribbean: At World's End</td>\n",
              "      <td>6.9</td>\n",
              "      <td>4500</td>\n",
              "      <td>Johnny Depp Orlando Bloom Keira Knightley Stel...</td>\n",
              "      <td>[{'name': 'Dariusz Wolski', 'gender': 2, 'depa...</td>\n",
              "      <td>Gore Verbinski</td>\n",
              "    </tr>\n",
              "    <tr>\n",
              "      <th>2</th>\n",
              "      <td>2</td>\n",
              "      <td>245000000</td>\n",
              "      <td>Action Adventure Crime</td>\n",
              "      <td>http://www.sonypictures.com/movies/spectre/</td>\n",
              "      <td>206647</td>\n",
              "      <td>spy based on novel secret agent sequel mi6</td>\n",
              "      <td>en</td>\n",
              "      <td>Spectre</td>\n",
              "      <td>A cryptic message from Bond’s past sends him o...</td>\n",
              "      <td>107.376788</td>\n",
              "      <td>...</td>\n",
              "      <td>148.0</td>\n",
              "      <td>[{\"iso_639_1\": \"fr\", \"name\": \"Fran\\u00e7ais\"},...</td>\n",
              "      <td>Released</td>\n",
              "      <td>A Plan No One Escapes</td>\n",
              "      <td>Spectre</td>\n",
              "      <td>6.3</td>\n",
              "      <td>4466</td>\n",
              "      <td>Daniel Craig Christoph Waltz L\\u00e9a Seydoux ...</td>\n",
              "      <td>[{'name': 'Thomas Newman', 'gender': 2, 'depar...</td>\n",
              "      <td>Sam Mendes</td>\n",
              "    </tr>\n",
              "    <tr>\n",
              "      <th>3</th>\n",
              "      <td>3</td>\n",
              "      <td>250000000</td>\n",
              "      <td>Action Crime Drama Thriller</td>\n",
              "      <td>http://www.thedarkknightrises.com/</td>\n",
              "      <td>49026</td>\n",
              "      <td>dc comics crime fighter terrorist secret ident...</td>\n",
              "      <td>en</td>\n",
              "      <td>The Dark Knight Rises</td>\n",
              "      <td>Following the death of District Attorney Harve...</td>\n",
              "      <td>112.312950</td>\n",
              "      <td>...</td>\n",
              "      <td>165.0</td>\n",
              "      <td>[{\"iso_639_1\": \"en\", \"name\": \"English\"}]</td>\n",
              "      <td>Released</td>\n",
              "      <td>The Legend Ends</td>\n",
              "      <td>The Dark Knight Rises</td>\n",
              "      <td>7.6</td>\n",
              "      <td>9106</td>\n",
              "      <td>Christian Bale Michael Caine Gary Oldman Anne ...</td>\n",
              "      <td>[{'name': 'Hans Zimmer', 'gender': 2, 'departm...</td>\n",
              "      <td>Christopher Nolan</td>\n",
              "    </tr>\n",
              "    <tr>\n",
              "      <th>4</th>\n",
              "      <td>4</td>\n",
              "      <td>260000000</td>\n",
              "      <td>Action Adventure Science Fiction</td>\n",
              "      <td>http://movies.disney.com/john-carter</td>\n",
              "      <td>49529</td>\n",
              "      <td>based on novel mars medallion space travel pri...</td>\n",
              "      <td>en</td>\n",
              "      <td>John Carter</td>\n",
              "      <td>John Carter is a war-weary, former military ca...</td>\n",
              "      <td>43.926995</td>\n",
              "      <td>...</td>\n",
              "      <td>132.0</td>\n",
              "      <td>[{\"iso_639_1\": \"en\", \"name\": \"English\"}]</td>\n",
              "      <td>Released</td>\n",
              "      <td>Lost in our world, found in another.</td>\n",
              "      <td>John Carter</td>\n",
              "      <td>6.1</td>\n",
              "      <td>2124</td>\n",
              "      <td>Taylor Kitsch Lynn Collins Samantha Morton Wil...</td>\n",
              "      <td>[{'name': 'Andrew Stanton', 'gender': 2, 'depa...</td>\n",
              "      <td>Andrew Stanton</td>\n",
              "    </tr>\n",
              "  </tbody>\n",
              "</table>\n",
              "<p>5 rows × 24 columns</p>\n",
              "</div>"
            ],
            "text/plain": [
              "   index     budget                                    genres  \\\n",
              "0      0  237000000  Action Adventure Fantasy Science Fiction   \n",
              "1      1  300000000                  Adventure Fantasy Action   \n",
              "2      2  245000000                    Action Adventure Crime   \n",
              "3      3  250000000               Action Crime Drama Thriller   \n",
              "4      4  260000000          Action Adventure Science Fiction   \n",
              "\n",
              "                                       homepage      id  \\\n",
              "0                   http://www.avatarmovie.com/   19995   \n",
              "1  http://disney.go.com/disneypictures/pirates/     285   \n",
              "2   http://www.sonypictures.com/movies/spectre/  206647   \n",
              "3            http://www.thedarkknightrises.com/   49026   \n",
              "4          http://movies.disney.com/john-carter   49529   \n",
              "\n",
              "                                            keywords original_language  \\\n",
              "0  culture clash future space war space colony so...                en   \n",
              "1  ocean drug abuse exotic island east india trad...                en   \n",
              "2         spy based on novel secret agent sequel mi6                en   \n",
              "3  dc comics crime fighter terrorist secret ident...                en   \n",
              "4  based on novel mars medallion space travel pri...                en   \n",
              "\n",
              "                             original_title  \\\n",
              "0                                    Avatar   \n",
              "1  Pirates of the Caribbean: At World's End   \n",
              "2                                   Spectre   \n",
              "3                     The Dark Knight Rises   \n",
              "4                               John Carter   \n",
              "\n",
              "                                            overview  popularity  ... runtime  \\\n",
              "0  In the 22nd century, a paraplegic Marine is di...  150.437577  ...   162.0   \n",
              "1  Captain Barbossa, long believed to be dead, ha...  139.082615  ...   169.0   \n",
              "2  A cryptic message from Bond’s past sends him o...  107.376788  ...   148.0   \n",
              "3  Following the death of District Attorney Harve...  112.312950  ...   165.0   \n",
              "4  John Carter is a war-weary, former military ca...   43.926995  ...   132.0   \n",
              "\n",
              "                                    spoken_languages    status  \\\n",
              "0  [{\"iso_639_1\": \"en\", \"name\": \"English\"}, {\"iso...  Released   \n",
              "1           [{\"iso_639_1\": \"en\", \"name\": \"English\"}]  Released   \n",
              "2  [{\"iso_639_1\": \"fr\", \"name\": \"Fran\\u00e7ais\"},...  Released   \n",
              "3           [{\"iso_639_1\": \"en\", \"name\": \"English\"}]  Released   \n",
              "4           [{\"iso_639_1\": \"en\", \"name\": \"English\"}]  Released   \n",
              "\n",
              "                                          tagline  \\\n",
              "0                     Enter the World of Pandora.   \n",
              "1  At the end of the world, the adventure begins.   \n",
              "2                           A Plan No One Escapes   \n",
              "3                                 The Legend Ends   \n",
              "4            Lost in our world, found in another.   \n",
              "\n",
              "                                      title vote_average vote_count  \\\n",
              "0                                    Avatar          7.2      11800   \n",
              "1  Pirates of the Caribbean: At World's End          6.9       4500   \n",
              "2                                   Spectre          6.3       4466   \n",
              "3                     The Dark Knight Rises          7.6       9106   \n",
              "4                               John Carter          6.1       2124   \n",
              "\n",
              "                                                cast  \\\n",
              "0  Sam Worthington Zoe Saldana Sigourney Weaver S...   \n",
              "1  Johnny Depp Orlando Bloom Keira Knightley Stel...   \n",
              "2  Daniel Craig Christoph Waltz L\\u00e9a Seydoux ...   \n",
              "3  Christian Bale Michael Caine Gary Oldman Anne ...   \n",
              "4  Taylor Kitsch Lynn Collins Samantha Morton Wil...   \n",
              "\n",
              "                                                crew           director  \n",
              "0  [{'name': 'Stephen E. Rivkin', 'gender': 0, 'd...      James Cameron  \n",
              "1  [{'name': 'Dariusz Wolski', 'gender': 2, 'depa...     Gore Verbinski  \n",
              "2  [{'name': 'Thomas Newman', 'gender': 2, 'depar...         Sam Mendes  \n",
              "3  [{'name': 'Hans Zimmer', 'gender': 2, 'departm...  Christopher Nolan  \n",
              "4  [{'name': 'Andrew Stanton', 'gender': 2, 'depa...     Andrew Stanton  \n",
              "\n",
              "[5 rows x 24 columns]"
            ]
          },
          "execution_count": 5,
          "metadata": {},
          "output_type": "execute_result"
        }
      ],
      "source": [
        "# View of dataset\n",
        "data.head()"
      ]
    },
    {
      "cell_type": "code",
      "execution_count": 6,
      "metadata": {
        "colab": {
          "base_uri": "https://localhost:8080/"
        },
        "id": "Ag28tAf3C8AF",
        "outputId": "715fcaab-1b17-49d3-a4da-dc7e907bc656"
      },
      "outputs": [
        {
          "data": {
            "text/plain": [
              "(4803, 24)"
            ]
          },
          "execution_count": 6,
          "metadata": {},
          "output_type": "execute_result"
        }
      ],
      "source": [
        "# Count of Rows & Columns\n",
        "data.shape"
      ]
    },
    {
      "cell_type": "code",
      "execution_count": 7,
      "metadata": {
        "colab": {
          "base_uri": "https://localhost:8080/"
        },
        "id": "FNlj6hySZBZZ",
        "outputId": "187ea529-1f77-4127-8e35-d7c39d2df941"
      },
      "outputs": [
        {
          "name": "stdout",
          "output_type": "stream",
          "text": [
            "<class 'pandas.core.frame.DataFrame'>\n",
            "RangeIndex: 4803 entries, 0 to 4802\n",
            "Data columns (total 24 columns):\n",
            " #   Column                Non-Null Count  Dtype  \n",
            "---  ------                --------------  -----  \n",
            " 0   index                 4803 non-null   int64  \n",
            " 1   budget                4803 non-null   int64  \n",
            " 2   genres                4775 non-null   object \n",
            " 3   homepage              1712 non-null   object \n",
            " 4   id                    4803 non-null   int64  \n",
            " 5   keywords              4391 non-null   object \n",
            " 6   original_language     4803 non-null   object \n",
            " 7   original_title        4803 non-null   object \n",
            " 8   overview              4800 non-null   object \n",
            " 9   popularity            4803 non-null   float64\n",
            " 10  production_companies  4803 non-null   object \n",
            " 11  production_countries  4803 non-null   object \n",
            " 12  release_date          4802 non-null   object \n",
            " 13  revenue               4803 non-null   int64  \n",
            " 14  runtime               4801 non-null   float64\n",
            " 15  spoken_languages      4803 non-null   object \n",
            " 16  status                4803 non-null   object \n",
            " 17  tagline               3959 non-null   object \n",
            " 18  title                 4803 non-null   object \n",
            " 19  vote_average          4803 non-null   float64\n",
            " 20  vote_count            4803 non-null   int64  \n",
            " 21  cast                  4760 non-null   object \n",
            " 22  crew                  4803 non-null   object \n",
            " 23  director              4773 non-null   object \n",
            "dtypes: float64(3), int64(5), object(16)\n",
            "memory usage: 900.7+ KB\n"
          ]
        }
      ],
      "source": [
        "# Datset Information\n",
        "data.info()"
      ]
    },
    {
      "cell_type": "code",
      "execution_count": 8,
      "metadata": {
        "id": "qBigIXtGZItN"
      },
      "outputs": [],
      "source": [
        "# Selecting the needed features\n",
        "features = ['genres','keywords','tagline','cast','director','overview']"
      ]
    },
    {
      "cell_type": "code",
      "execution_count": 9,
      "metadata": {
        "id": "7jOV-fR-ZUd-"
      },
      "outputs": [],
      "source": [
        "#dealing with null values\n",
        "for feature in features:\n",
        "  data[feature] = data[feature].fillna('')"
      ]
    },
    {
      "cell_type": "code",
      "execution_count": 10,
      "metadata": {
        "id": "SJxDrHkIZ4Ob"
      },
      "outputs": [],
      "source": [
        "# Combining all new features in 'combine' column\n",
        "data['combine'] = data['genres']+' '+data['keywords']+' '+data['tagline']+' '+data['cast']+' '+data['director']+ ' '+data['overview']"
      ]
    },
    {
      "cell_type": "code",
      "execution_count": 11,
      "metadata": {
        "colab": {
          "base_uri": "https://localhost:8080/",
          "height": 241
        },
        "id": "S1QR_Z64aEfd",
        "outputId": "0ea66913-30f5-4403-c7c8-3ab7cec6ac18"
      },
      "outputs": [
        {
          "data": {
            "text/plain": [
              "0    Action Adventure Fantasy Science Fiction cultu...\n",
              "1    Adventure Fantasy Action ocean drug abuse exot...\n",
              "2    Action Adventure Crime spy based on novel secr...\n",
              "3    Action Crime Drama Thriller dc comics crime fi...\n",
              "4    Action Adventure Science Fiction based on nove...\n",
              "Name: combine, dtype: object"
            ]
          },
          "execution_count": 11,
          "metadata": {},
          "output_type": "execute_result"
        }
      ],
      "source": [
        "data['combine'].head()"
      ]
    },
    {
      "cell_type": "code",
      "execution_count": 12,
      "metadata": {
        "colab": {
          "base_uri": "https://localhost:8080/"
        },
        "id": "1opeQM7saKYP",
        "outputId": "6dc4ac5d-044d-408a-802f-5bcaf0adef82"
      },
      "outputs": [
        {
          "name": "stdout",
          "output_type": "stream",
          "text": [
            "<Compressed Sparse Row sparse matrix of dtype 'float64'\n",
            "\twith 307355 stored elements and shape (4803, 30592)>\n",
            "  Coords\tValues\n",
            "  (0, 561)\t0.05971816344971169\n",
            "  (0, 703)\t0.06846420517510078\n",
            "  (0, 9754)\t0.08513696797398294\n",
            "  (0, 23977)\t0.07941905576010944\n",
            "  (0, 10023)\t0.07960231361105431\n",
            "  (0, 6601)\t0.1498786462809525\n",
            "  (0, 5279)\t0.1549075340655008\n",
            "  (0, 10796)\t0.11095111375730655\n",
            "  (0, 25413)\t0.24369151759694266\n",
            "  (0, 29469)\t0.08637114089261566\n",
            "  (0, 5592)\t0.17322386697661618\n",
            "  (0, 25232)\t0.1336739112380023\n",
            "  (0, 9065)\t0.14505772980982928\n",
            "  (0, 27118)\t0.08328687324810813\n",
            "  (0, 30121)\t0.07272849549697494\n",
            "  (0, 19410)\t0.0318696249813729\n",
            "  (0, 20039)\t0.37747447361884223\n",
            "  (0, 23619)\t0.11047375838269538\n",
            "  (0, 30145)\t0.18243919685121024\n",
            "  (0, 30543)\t0.15064979633862852\n",
            "  (0, 23578)\t0.16802034155542864\n",
            "  (0, 24802)\t0.158925784923944\n",
            "  (0, 29614)\t0.15064979633862852\n",
            "  (0, 25868)\t0.11590870590502833\n",
            "  (0, 15569)\t0.171366691592621\n",
            "  :\t:\n",
            "  (4802, 9588)\t0.10415492266309316\n",
            "  (4802, 21386)\t0.08975511036766048\n",
            "  (4802, 9166)\t0.07829183421073847\n",
            "  (4802, 24102)\t0.08207980733784753\n",
            "  (4802, 6136)\t0.10774075928383217\n",
            "  (4802, 14324)\t0.09933234978871472\n",
            "  (4802, 3875)\t0.10774075928383217\n",
            "  (4802, 8258)\t0.284128207029646\n",
            "  (4802, 2501)\t0.29133697059656616\n",
            "  (4802, 23076)\t0.08379553030608407\n",
            "  (4802, 10089)\t0.10415492266309316\n",
            "  (4802, 10738)\t0.10877787010859256\n",
            "  (4802, 11677)\t0.10415492266309316\n",
            "  (4802, 1833)\t0.09660213336802434\n",
            "  (4802, 7044)\t0.10877787010859256\n",
            "  (4802, 23793)\t0.10262332234993723\n",
            "  (4802, 1819)\t0.116986654174831\n",
            "  (4802, 7964)\t0.07432488153640866\n",
            "  (4802, 8403)\t0.11236370672933159\n",
            "  (4802, 250)\t0.12102518665736202\n",
            "  (4802, 6542)\t0.20524664469987447\n",
            "  (4802, 9910)\t0.11236370672933159\n",
            "  (4802, 11524)\t0.11236370672933159\n",
            "  (4802, 4278)\t0.11887938519964002\n",
            "  (4802, 12576)\t0.5646265481250229\n"
          ]
        }
      ],
      "source": [
        "# Convert the 'combine' text column into a TF‑IDF sparse matrix\n",
        "vector = TfidfVectorizer()\n",
        "f_vector = vector.fit_transform(data['combine'])\n",
        "print(f_vector)"
      ]
    },
    {
      "cell_type": "code",
      "execution_count": 13,
      "metadata": {
        "id": "aC0LUEp-aVO-"
      },
      "outputs": [],
      "source": [
        "# Compute pairwise cosine similarity between all TF‑IDF vectors(to find the similarity between  features)\n",
        "similarity = cosine_similarity(f_vector)"
      ]
    },
    {
      "cell_type": "code",
      "execution_count": 14,
      "metadata": {
        "colab": {
          "base_uri": "https://localhost:8080/"
        },
        "id": "IBwM8s6xaYKD",
        "outputId": "21af7cdc-219f-4d05-956c-b7927805e29a"
      },
      "outputs": [
        {
          "name": "stdout",
          "output_type": "stream",
          "text": [
            "[[1.         0.05083168 0.0332947  ... 0.02749812 0.0304889  0.0072518 ]\n",
            " [0.05083168 1.         0.04356836 ... 0.05077045 0.03100979 0.01521198]\n",
            " [0.0332947  0.04356836 1.         ... 0.02646984 0.04751623 0.01372603]\n",
            " ...\n",
            " [0.02749812 0.05077045 0.02646984 ... 1.         0.03481447 0.03546821]\n",
            " [0.0304889  0.03100979 0.04751623 ... 0.03481447 1.         0.03098945]\n",
            " [0.0072518  0.01521198 0.01372603 ... 0.03546821 0.03098945 1.        ]]\n"
          ]
        }
      ],
      "source": [
        "print(similarity)"
      ]
    },
    {
      "cell_type": "code",
      "execution_count": 15,
      "metadata": {
        "colab": {
          "base_uri": "https://localhost:8080/"
        },
        "id": "5C55JFluabSd",
        "outputId": "30d2bae2-9a60-4e80-cd6e-43f043b00a38"
      },
      "outputs": [
        {
          "data": {
            "text/plain": [
              "(4803, 4803)"
            ]
          },
          "execution_count": 15,
          "metadata": {},
          "output_type": "execute_result"
        }
      ],
      "source": [
        "similarity.shape"
      ]
    },
    {
      "cell_type": "code",
      "execution_count": 16,
      "metadata": {
        "colab": {
          "base_uri": "https://localhost:8080/"
        },
        "id": "bHOxqev7af3t",
        "outputId": "5c2748d8-4b38-4ae2-eae9-372697c18d54"
      },
      "outputs": [
        {
          "name": "stdout",
          "output_type": "stream",
          "text": [
            "Movies suggested for you : \n",
            "\n",
            "Avatar\n",
            "Lifeforce\n",
            "Moonraker\n",
            "Alien\n",
            "Star Trek Beyond\n",
            "Gattaca\n",
            "Aliens\n",
            "Guardians of the Galaxy\n",
            "Gravity\n",
            "Lockout\n",
            "Apollo 18\n",
            "Lost in Space\n",
            "Cargo\n",
            "Lara Croft Tomb Raider: The Cradle of Life\n",
            "Treasure Planet\n",
            "Men in Black\n",
            "Star Trek Into Darkness\n",
            "Zathura: A Space Adventure\n",
            "The Book of Life\n",
            "Sunshine\n",
            "Men in Black II\n",
            "Space Chimps\n",
            "The Helix... Loaded\n",
            "Starship Troopers\n",
            "Deep Impact\n",
            "Tears of the Sun\n",
            "The Right Stuff\n",
            "Sphere\n",
            "Terminator Salvation\n",
            "Mad Max Beyond Thunderdome\n"
          ]
        }
      ],
      "source": [
        "# Take movie name input from the user\n",
        "movie_name = input('Enter your favourite movie name :')\n",
        "\n",
        "# Convert all movie titles from the dataset into a list\n",
        "list_of_all_title = data['title'].tolist()\n",
        "\n",
        "# Find close matches of the entered movie name from the list of titles\n",
        "find_close_match = difflib.get_close_matches(movie_name, list_of_all_title)\n",
        "\n",
        "# Pick the best matching movie title\n",
        "close_match = find_close_match[0]\n",
        "\n",
        "# Get the index of the matched movie in the dataset\n",
        "index_of_movie = data[data.title == close_match]['index'].values[0]\n",
        "\n",
        "# Get similarity scores (cosine similarity) for this movie with all other movies\n",
        "similar_score = list(enumerate(similarity[index_of_movie]))\n",
        "\n",
        "# Sort movies based on similarity scores in descending order\n",
        "similar_score_sort = sorted(similar_score, key = lambda x:x[1], reverse = True)\n",
        "\n",
        "# Print top 30 most similar movies\n",
        "print('Movies suggested for you : \\n')\n",
        "for i in range(30):\n",
        "    index = similar_score_sort[i][0]\n",
        "    print(data['title'][index])\n"
      ]
    },
    {
      "cell_type": "code",
      "execution_count": 19,
      "metadata": {
        "id": "Y-72zPCDTwz6"
      },
      "outputs": [
        {
          "data": {
            "text/plain": [
              "['film_recommendation_model.pkl']"
            ]
          },
          "execution_count": 19,
          "metadata": {},
          "output_type": "execute_result"
        }
      ],
      "source": [
        "import joblib\n",
        "\n",
        "# Save the Film Recommendation Model\n",
        "joblib.dump(similarity, 'film_recommendation_model.pkl')"
      ]
    }
  ],
  "metadata": {
    "colab": {
      "provenance": []
    },
    "kernelspec": {
      "display_name": "Python 3",
      "name": "python3"
    },
    "language_info": {
      "codemirror_mode": {
        "name": "ipython",
        "version": 3
      },
      "file_extension": ".py",
      "mimetype": "text/x-python",
      "name": "python",
      "nbconvert_exporter": "python",
      "pygments_lexer": "ipython3",
      "version": "3.10.1"
    }
  },
  "nbformat": 4,
  "nbformat_minor": 0
}
